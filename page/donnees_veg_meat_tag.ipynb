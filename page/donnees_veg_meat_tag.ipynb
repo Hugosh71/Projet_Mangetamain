{
 "cells": [
  {
   "cell_type": "code",
   "execution_count": 1,
   "id": "f91af316-7567-4a42-adaa-f52e25747547",
   "metadata": {},
   "outputs": [],
   "source": [
    "import pandas as pd"
   ]
  },
  {
   "cell_type": "code",
   "execution_count": 2,
   "id": "a6d0540b-855a-4af6-a631-18b691f48ddd",
   "metadata": {},
   "outputs": [],
   "source": [
    "ratings = pd.read_csv(r\"C:\\Users\\const\\TELECOM\\DATA\\Projet_Mangetamain\\data\\RAW_interactions.csv\")\n",
    "recipes = pd.read_csv(r\"C:\\Users\\const\\TELECOM\\DATA\\Projet_Mangetamain\\data\\RAW_recipes.csv\")"
   ]
  },
  {
   "cell_type": "code",
   "execution_count": 3,
   "id": "7128ad86-1ca7-491e-a693-d562d56957dc",
   "metadata": {},
   "outputs": [],
   "source": [
    "meat_tags = [\"meat\", \"chicken\", \"pork\", \"turkey\", \"fish\", \"beef\", \"lamb\"]"
   ]
  },
  {
   "cell_type": "code",
   "execution_count": null,
   "id": "b626c0d9-8f05-4ee9-80e5-c4a90789d8bf",
   "metadata": {},
   "outputs": [],
   "source": [
    "# Fusionner les deux fichiers\n",
    "data = pd.merge(ratings, recipes, left_on=\"recipe_id\", right_on=\"id\", how='inner')"
   ]
  },
  {
   "cell_type": "code",
   "execution_count": 5,
   "id": "7d70d825-4124-4252-83dd-7accebb21929",
   "metadata": {},
   "outputs": [
    {
     "name": "stdout",
     "output_type": "stream",
     "text": [
      "   user_id  recipe_id        date  rating  \\\n",
      "0    38094      40893  2003-02-17       4   \n",
      "1  1293707      40893  2011-12-21       5   \n",
      "2     8937      44394  2002-12-01       4   \n",
      "3   126440      85009  2010-02-27       5   \n",
      "4    57222      85009  2011-10-01       5   \n",
      "\n",
      "                                              review  \\\n",
      "0  Great with a salad. Cooked on top of stove for...   \n",
      "1  So simple, so delicious! Great for chilly fall...   \n",
      "2  This worked very well and is EASY.  I used not...   \n",
      "3  I made the Mexican topping and took it to bunk...   \n",
      "4  Made the cheddar bacon topping, adding a sprin...   \n",
      "\n",
      "                                   name     id  minutes  contributor_id  \\\n",
      "0  white bean   green chile pepper soup  40893      495            1533   \n",
      "1  white bean   green chile pepper soup  40893      495            1533   \n",
      "2      devilicious cookie cake delights  44394       20           56824   \n",
      "3                 baked potato toppings  85009       10           64342   \n",
      "4                 baked potato toppings  85009       10           64342   \n",
      "\n",
      "    submitted                                               tags  \\\n",
      "0  2002-09-21  ['weeknight', 'time-to-make', 'course', 'main-...   \n",
      "1  2002-09-21  ['weeknight', 'time-to-make', 'course', 'main-...   \n",
      "2  2002-10-27  ['30-minutes-or-less', 'time-to-make', 'course...   \n",
      "3  2004-02-25  ['15-minutes-or-less', 'time-to-make', 'course...   \n",
      "4  2004-02-25  ['15-minutes-or-less', 'time-to-make', 'course...   \n",
      "\n",
      "                                           nutrition  n_steps  \\\n",
      "0           [204.8, 5.0, 9.0, 26.0, 24.0, 2.0, 10.0]        4   \n",
      "1           [204.8, 5.0, 9.0, 26.0, 24.0, 2.0, 10.0]        4   \n",
      "2           [132.3, 11.0, 39.0, 5.0, 4.0, 11.0, 5.0]        5   \n",
      "3  [2786.2, 342.0, 134.0, 290.0, 161.0, 301.0, 42.0]        3   \n",
      "4  [2786.2, 342.0, 134.0, 290.0, 161.0, 301.0, 42.0]        3   \n",
      "\n",
      "                                               steps  \\\n",
      "0  ['combine beans , onion , chilies , 1 / 2 teas...   \n",
      "1  ['combine beans , onion , chilies , 1 / 2 teas...   \n",
      "2  ['blend together cake mix , oil and eggs', 'ad...   \n",
      "3  ['pick whichever topping you want to use and c...   \n",
      "4  ['pick whichever topping you want to use and c...   \n",
      "\n",
      "                                         description  \\\n",
      "0                        easy soup for the crockpot.   \n",
      "1                        easy soup for the crockpot.   \n",
      "2                                                NaN   \n",
      "3  these toppings sure makes a nice change from p...   \n",
      "4  these toppings sure makes a nice change from p...   \n",
      "\n",
      "                                         ingredients  n_ingredients  \n",
      "0  ['great northern beans', 'yellow onion', 'dice...              9  \n",
      "1  ['great northern beans', 'yellow onion', 'dice...              9  \n",
      "2  [\"devil's food cake mix\", 'vegetable oil', 'eg...              4  \n",
      "3  ['mayonnaise', 'salsa', 'cheddar cheese', 'ref...             13  \n",
      "4  ['mayonnaise', 'salsa', 'cheddar cheese', 'ref...             13  \n"
     ]
    }
   ],
   "source": [
    "print(data.head())"
   ]
  },
  {
   "cell_type": "code",
   "execution_count": 6,
   "id": "a72dcb33-e2ae-4350-ba55-d906191335a3",
   "metadata": {},
   "outputs": [],
   "source": [
    "# Créer la colonne 'type' directement\n",
    "data[\"type\"] = \"autre\"  # par défaut\n",
    "data.loc[data[\"tags\"].str.contains(\"vegetarian\", case=False, na=False), \"type\"] = \"végétarien\"\n",
    "data.loc[data[\"tags\"].str.contains(\"|\".join(meat_tags), case=False, na=False), \"type\"] = \"viande\""
   ]
  },
  {
   "cell_type": "code",
   "execution_count": 7,
   "id": "6270a97d-f1da-42ff-b184-571ab28cfc96",
   "metadata": {},
   "outputs": [],
   "source": [
    "# Filtrer uniquement végétarien et viande\n",
    "data = data[data[\"type\"].isin([\"végétarien\", \"viande\"])]"
   ]
  },
  {
   "cell_type": "code",
   "execution_count": 8,
   "id": "9b47d307-9d45-4303-8e59-6a77d5c1ef63",
   "metadata": {},
   "outputs": [],
   "source": [
    "# Compter le nombre de recettes\n",
    "stats_counts = data[\"type\"].value_counts().reset_index()\n",
    "stats_counts.columns = [\"type\", \"nombre\"]\n",
    "stats_counts.to_csv(\"stats_counts.csv\", index=False)"
   ]
  },
  {
   "cell_type": "code",
   "execution_count": 9,
   "id": "443673a4-a62b-448d-997c-77a289a95fa0",
   "metadata": {},
   "outputs": [],
   "source": [
    "# Moyenne des notes\n",
    "stats_mean = data.groupby(\"type\")[\"rating\"].mean().reset_index()\n",
    "stats_mean.columns = [\"type\", \"moyenne_notes\"]\n",
    "stats_mean.to_csv(\"stats_mean.csv\", index=False)"
   ]
  },
  {
   "cell_type": "code",
   "execution_count": 10,
   "id": "6ced3837-8189-4577-a183-b61ade63ed0e",
   "metadata": {},
   "outputs": [],
   "source": [
    "# Distribution des notes pour l'histogramme\n",
    "data[[\"type\", \"rating\"]].to_csv(\"stats_rating.csv\", index=False)"
   ]
  },
  {
   "cell_type": "code",
   "execution_count": null,
   "id": "e2fa74df-e3c2-4335-87ae-97f6b38f7357",
   "metadata": {},
   "outputs": [],
   "source": []
  }
 ],
 "metadata": {
  "kernelspec": {
   "display_name": "Python (venv)",
   "language": "python",
   "name": "venv"
  },
  "language_info": {
   "codemirror_mode": {
    "name": "ipython",
    "version": 3
   },
   "file_extension": ".py",
   "mimetype": "text/x-python",
   "name": "python",
   "nbconvert_exporter": "python",
   "pygments_lexer": "ipython3",
   "version": "3.12.10"
  }
 },
 "nbformat": 4,
 "nbformat_minor": 5
}
